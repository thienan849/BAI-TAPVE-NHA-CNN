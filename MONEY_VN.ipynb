{
  "cells": [
    {
      "cell_type": "code",
      "execution_count": 77,
      "metadata": {
        "id": "U9H8ZCXMRUOG"
      },
      "outputs": [],
      "source": [
        "import numpy as np #tinh toan\n",
        "import pandas as pd #xu li bang\n",
        "import seaborn as sns #do thi du lieu\n",
        "import matplotlib.pyplot as plt # ve\n",
        "from sklearn.preprocessing import StandardScaler # xu li xu lieu cho dong deu\n",
        "from sklearn.model_selection import train_test_split # chia du lieu\n",
        "from keras.layers import Dense,Activation,Dropout,BatchNormalization,LSTM # nhom chuan\n",
        "from keras.models import Sequential #\n",
        "from tensorflow.keras.utils import to_categorical #### chỉ cho 1 giá trị (1) hiện lên\n",
        "from keras import callbacks #\n",
        "from sklearn.metrics import precision_score, recall_score, confusion_matrix, classification_report, accuracy_score,f1_score # đo lường\n",
        "from tensorflow.keras.optimizers import RMSprop\n",
        "from keras.callbacks import EarlyStopping\n",
        "from sklearn.preprocessing import scale\n",
        "from keras.utils import np_utils\n",
        "from keras.datasets import mnist\n",
        "from keras.models import Sequential\n",
        "from keras.layers import Dense, Dropout\n",
        "from tensorflow.keras.optimizers import RMSprop\n",
        "import numpy as np\n",
        "from tensorflow.keras.optimizers import SGD,Adam\n",
        "from keras.models import Sequential\n",
        "from keras.layers import Dense\n",
        "from keras.layers import Dropout\n",
        "from keras.layers import Flatten\n",
        "from keras.layers.convolutional import Conv2D\n",
        "from keras.layers.convolutional import MaxPooling2D\n",
        "from tensorflow.keras.models import load_model\n",
        "from tensorflow.keras.utils import load_img, img_to_array\n",
        "from keras.preprocessing.image import ImageDataGenerator\n",
        "from skimage import io\n",
        "import os"
      ]
    },
    {
      "cell_type": "code",
      "execution_count": null,
      "metadata": {
        "id": "MpBLsOd_R0em"
      },
      "outputs": [],
      "source": [
        "url='/content/drive/MyDrive/Colab Notebooks/CURRENT_VN'"
      ]
    },
    {
      "cell_type": "code",
      "execution_count": null,
      "metadata": {
        "colab": {
          "base_uri": "https://localhost:8080/"
        },
        "id": "XIovkVopU6-9",
        "outputId": "3e2f4608-5a81-49cf-9582-a42d2925302e"
      },
      "outputs": [
        {
          "name": "stdout",
          "output_type": "stream",
          "text": [
            "Found 101 images belonging to 11 classes.\n",
            "Found 11 images belonging to 11 classes.\n"
          ]
        }
      ],
      "source": [
        "generator= ImageDataGenerator(rescale=1./255,validation_split=0.1)\n",
        "train_data=generator.flow_from_directory(url,target_size=(150,150),batch_size=10,class_mode='categorical',subset='training')\n",
        "validation_dataset=generator.flow_from_directory(url,target_size=(150,150),batch_size=10,class_mode='categorical',subset='validation')"
      ]
    },
    {
      "cell_type": "code",
      "execution_count": null,
      "metadata": {
        "colab": {
          "base_uri": "https://localhost:8080/"
        },
        "id": "BUXYk7iBVmRP",
        "outputId": "650760b8-305e-405a-9ae0-7019fc1d421a"
      },
      "outputs": [
        {
          "data": {
            "text/plain": [
              "{'100K': 0,\n",
              " '10K': 1,\n",
              " '1K': 2,\n",
              " '200K': 3,\n",
              " '200Đ': 4,\n",
              " '20K': 5,\n",
              " '2K': 6,\n",
              " '500K': 7,\n",
              " '500Đ': 8,\n",
              " '50K': 9,\n",
              " '5K': 10}"
            ]
          },
          "execution_count": 69,
          "metadata": {},
          "output_type": "execute_result"
        }
      ],
      "source": [
        "validation_dataset.class_indices"
      ]
    },
    {
      "cell_type": "code",
      "execution_count": null,
      "metadata": {
        "id": "5szS-b0_Vpmi"
      },
      "outputs": [],
      "source": [
        "model=Sequential()\n",
        "model.add(Conv2D(32,(3,3),activation='relu',kernel_initializer='he_uniform',padding='same',input_shape=(100,100,3)))\n",
        "model.add(MaxPooling2D(2,2))\n",
        "model.add(Conv2D(32,(3,3),activation='relu',kernel_initializer='he_uniform',padding='same'))\n",
        "model.add(MaxPooling2D(2,2))\n",
        "model.add(Conv2D(32,(3,3),activation='relu',kernel_initializer='he_uniform',padding='same'))\n",
        "model.add(MaxPooling2D(2,2))"
      ]
    },
    {
      "cell_type": "code",
      "execution_count": null,
      "metadata": {
        "id": "e84XlurBVs6H"
      },
      "outputs": [],
      "source": [
        "model=Sequential()\n",
        "model.add(Conv2D(64,(3,3),activation='relu',kernel_initializer='he_uniform',padding='same'))\n",
        "model.add(Conv2D(64,(3,3),activation='relu',kernel_initializer='he_uniform',padding='same'))\n",
        "model.add(MaxPooling2D(2,2))"
      ]
    },
    {
      "cell_type": "code",
      "execution_count": null,
      "metadata": {
        "id": "NUoKoNaoVwvB"
      },
      "outputs": [],
      "source": [
        "model=Sequential()\n",
        "model.add(Conv2D(128,(3,3),activation='relu',kernel_initializer='he_uniform',padding='same'))\n",
        "model.add(Conv2D(128,(3,3),activation='relu',kernel_initializer='he_uniform',padding='same'))\n",
        "model.add(MaxPooling2D(2,2))"
      ]
    },
    {
      "cell_type": "code",
      "execution_count": null,
      "metadata": {
        "id": "J_kCqx5kVzod"
      },
      "outputs": [],
      "source": [
        "model.add(Flatten())\n",
        "model.add(Dense(128,activation='relu'))\n",
        "model.add(Dense(11,activation='softmax'))"
      ]
    },
    {
      "cell_type": "code",
      "execution_count": 76,
      "metadata": {
        "colab": {
          "base_uri": "https://localhost:8080/",
          "height": 0
        },
        "id": "H6a4NNGlV4-H",
        "outputId": "49cdcb3b-1907-4c13-ca8a-07d091569e7a"
      },
      "outputs": [
        {
          "metadata": {
            "tags": null
          },
          "name": "stdout",
          "output_type": "stream",
          "text": [
            "Epoch 1/15\n"
          ]
        },
        {
          "metadata": {
            "tags": null
          },
          "name": "stderr",
          "output_type": "stream",
          "text": [
            "/usr/local/lib/python3.7/dist-packages/keras/optimizer_v2/adam.py:105: UserWarning: The `lr` argument is deprecated, use `learning_rate` instead.\n",
            "  super(Adam, self).__init__(name, **kwargs)\n"
          ]
        },
        {
          "output_type": "stream",
          "name": "stdout",
          "text": [
            "11/11 [==============================] - 51s 5s/step - loss: 0.1596 - accuracy: 0.9703 - val_loss: 4.5983 - val_accuracy: 0.1818\n",
            "Epoch 2/15\n",
            "11/11 [==============================] - 50s 5s/step - loss: 0.4443 - accuracy: 0.9505 - val_loss: 5.0476 - val_accuracy: 0.0909\n",
            "Epoch 3/15\n",
            "11/11 [==============================] - 50s 5s/step - loss: 0.6753 - accuracy: 0.8911 - val_loss: 4.2153 - val_accuracy: 0.2727\n",
            "Epoch 4/15\n",
            "11/11 [==============================] - 54s 5s/step - loss: 0.7201 - accuracy: 0.9307 - val_loss: 3.1217 - val_accuracy: 0.1818\n",
            "Epoch 5/15\n",
            "11/11 [==============================] - 50s 5s/step - loss: 0.6343 - accuracy: 0.8317 - val_loss: 3.6133 - val_accuracy: 0.1818\n",
            "Epoch 6/15\n",
            "11/11 [==============================] - 50s 5s/step - loss: 0.5325 - accuracy: 0.8713 - val_loss: 4.4885 - val_accuracy: 0.2727\n",
            "Epoch 7/15\n",
            "11/11 [==============================] - 50s 5s/step - loss: 0.1790 - accuracy: 0.9703 - val_loss: 7.2108 - val_accuracy: 0.5455\n",
            "Epoch 8/15\n",
            "11/11 [==============================] - 50s 5s/step - loss: 0.0156 - accuracy: 1.0000 - val_loss: 6.4704 - val_accuracy: 0.4545\n",
            "Epoch 9/15\n",
            "11/11 [==============================] - 50s 5s/step - loss: 0.0386 - accuracy: 1.0000 - val_loss: 6.5244 - val_accuracy: 0.4545\n",
            "Epoch 10/15\n",
            "11/11 [==============================] - 50s 5s/step - loss: 0.0087 - accuracy: 1.0000 - val_loss: 6.6686 - val_accuracy: 0.4545\n",
            "Epoch 11/15\n",
            "11/11 [==============================] - 50s 5s/step - loss: 2.1827e-04 - accuracy: 1.0000 - val_loss: 7.0612 - val_accuracy: 0.4545\n",
            "Epoch 12/15\n",
            "11/11 [==============================] - 51s 5s/step - loss: 1.6688e-06 - accuracy: 1.0000 - val_loss: 10.2007 - val_accuracy: 0.4545\n",
            "Epoch 13/15\n",
            "11/11 [==============================] - 50s 5s/step - loss: 1.6375e-05 - accuracy: 1.0000 - val_loss: 10.4339 - val_accuracy: 0.4545\n",
            "Epoch 14/15\n",
            "11/11 [==============================] - 50s 5s/step - loss: 1.0327e-06 - accuracy: 1.0000 - val_loss: 10.2284 - val_accuracy: 0.4545\n",
            "Epoch 15/15\n",
            "11/11 [==============================] - 50s 5s/step - loss: 1.0977e-07 - accuracy: 1.0000 - val_loss: 10.1362 - val_accuracy: 0.4545\n",
            "Sai số kiểm tra là: 10.136160850524902\n",
            "Độ chính xác kiểm tra là: 0.4545454680919647\n"
          ]
        }
      ],
      "source": [
        "opt=Adam(lr=0.002)\n",
        "model.compile (optimizer=opt,loss='categorical_crossentropy', metrics=['accuracy'])\n",
        "history=model.fit(train_data,epochs=15,batch_size=128,validation_data=validation_dataset,verbose=1)\n",
        "score=model.evaluate(validation_dataset,verbose=0)\n",
        "print('Sai số kiểm tra là:',score[0])\n",
        "print('Độ chính xác kiểm tra là:',score[1])"
      ]
    },
    {
      "cell_type": "code",
      "execution_count": 78,
      "metadata": {
        "id": "PMxmjNLtf84Z",
        "colab": {
          "base_uri": "https://localhost:8080/",
          "height": 0
        },
        "outputId": "4e32a258-2ce7-4be3-8988-c79c2003ff09"
      },
      "outputs": [
        {
          "output_type": "execute_result",
          "data": {
            "text/plain": [
              "array([5])"
            ]
          },
          "metadata": {},
          "execution_count": 78
        }
      ],
      "source": [
        "#'100K': 0,'10K': 1,'1K': 2,'200K': 3,'200Đ': 4,'20K': 5,'2K': 6,'500K': 7,'500Đ': 8,'50K': 9,'5K': 10\n",
        "img=load_img('20k_test.jpg',target_size=(150,150)) \n",
        "img=img_to_array(img)\n",
        "img=img.reshape(1,150,150,3)\n",
        "img=img.astype('float32')\n",
        "img=img/255\n",
        "np.argmax(model.predict(img),axis=1)"
      ]
    },
    {
      "cell_type": "code",
      "source": [
        "img=load_img('50k_test.jpg',target_size=(150,150)) \n",
        "img=img_to_array(img)\n",
        "img=img.reshape(1,150,150,3)\n",
        "img=img.astype('float32')\n",
        "img=img/255\n",
        "np.argmax(model.predict(img),axis=1)"
      ],
      "metadata": {
        "colab": {
          "base_uri": "https://localhost:8080/",
          "height": 0
        },
        "id": "6kQumX3qwI4K",
        "outputId": "c3b6254c-8dbf-4fc4-b0b8-de6e6e3be59b"
      },
      "execution_count": 79,
      "outputs": [
        {
          "output_type": "execute_result",
          "data": {
            "text/plain": [
              "array([7])"
            ]
          },
          "metadata": {},
          "execution_count": 79
        }
      ]
    },
    {
      "cell_type": "code",
      "source": [
        "img=load_img('100k_test.jpg',target_size=(150,150)) \n",
        "img=img_to_array(img)\n",
        "img=img.reshape(1,150,150,3)\n",
        "img=img.astype('float32')\n",
        "img=img/255\n",
        "np.argmax(model.predict(img),axis=1)"
      ],
      "metadata": {
        "colab": {
          "base_uri": "https://localhost:8080/",
          "height": 0
        },
        "id": "U9SV7dmKwJ4Z",
        "outputId": "87630c57-1362-47a7-c1b6-89ce8b718994"
      },
      "execution_count": 80,
      "outputs": [
        {
          "output_type": "execute_result",
          "data": {
            "text/plain": [
              "array([0])"
            ]
          },
          "metadata": {},
          "execution_count": 80
        }
      ]
    }
  ],
  "metadata": {
    "colab": {
      "name": "MONEY_VN.ipynb",
      "provenance": [],
      "collapsed_sections": []
    },
    "kernelspec": {
      "display_name": "Python 3",
      "name": "python3"
    },
    "language_info": {
      "name": "python"
    }
  },
  "nbformat": 4,
  "nbformat_minor": 0
}