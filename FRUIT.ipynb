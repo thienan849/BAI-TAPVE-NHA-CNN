{
  "nbformat": 4,
  "nbformat_minor": 0,
  "metadata": {
    "colab": {
      "name": "FRUIT.ipynb",
      "provenance": [],
      "collapsed_sections": []
    },
    "kernelspec": {
      "name": "python3",
      "display_name": "Python 3"
    },
    "language_info": {
      "name": "python"
    }
  },
  "cells": [
    {
      "cell_type": "code",
      "execution_count": null,
      "metadata": {
        "id": "Iu4UbkHjGLQu"
      },
      "outputs": [],
      "source": [
        "import numpy as np #tinh toan\n",
        "import pandas as pd #xu li bang\n",
        "import seaborn as sns #do thi du lieu\n",
        "import matplotlib.pyplot as plt # ve\n",
        "from sklearn.preprocessing import StandardScaler # xu li xu lieu cho dong deu\n",
        "from sklearn.model_selection import train_test_split # chia du lieu\n",
        "from keras.layers import Dense,Activation,Dropout,BatchNormalization,LSTM # nhom chuan\n",
        "from keras.models import Sequential #\n",
        "from tensorflow.keras.utils import to_categorical #### chỉ cho 1 giá trị (1) hiện lên\n",
        "from keras import callbacks #\n",
        "from sklearn.metrics import precision_score, recall_score, confusion_matrix, classification_report, accuracy_score,f1_score # đo lường\n",
        "from tensorflow.keras.optimizers import RMSprop\n",
        "from keras.callbacks import EarlyStopping\n",
        "from sklearn.preprocessing import scale\n",
        "from keras.utils import np_utils\n",
        "from keras.datasets import mnist\n",
        "from keras.models import Sequential\n",
        "from keras.layers import Dense, Dropout\n",
        "from tensorflow.keras.optimizers import RMSprop\n",
        "import numpy as np\n",
        "from tensorflow.keras.optimizers import SGD,Adam\n",
        "from keras.models import Sequential\n",
        "from keras.layers import Dense\n",
        "from keras.layers import Dropout\n",
        "from keras.layers import Flatten\n",
        "from keras.layers.convolutional import Conv2D\n",
        "from keras.layers.convolutional import MaxPooling2D\n",
        "from tensorflow.keras.models import load_model\n",
        "from tensorflow.keras.utils import load_img, img_to_array\n",
        "from keras.preprocessing.image import ImageDataGenerator\n",
        "from skimage import io\n",
        "import os"
      ]
    },
    {
      "cell_type": "code",
      "source": [
        "url='/content/drive/MyDrive/Colab Notebooks/FRUIT'"
      ],
      "metadata": {
        "id": "qsjydDn6wdGP"
      },
      "execution_count": null,
      "outputs": []
    },
    {
      "cell_type": "code",
      "source": [
        "generator= ImageDataGenerator(rescale=1./255,validation_split=0.1)\n",
        "train_data=generator.flow_from_directory(url,target_size=(150,150),batch_size=10,class_mode='categorical',subset='training')\n",
        "validation_dataset=generator.flow_from_directory(url,target_size=(150,150),batch_size=10,class_mode='categorical',subset='validation')"
      ],
      "metadata": {
        "colab": {
          "base_uri": "https://localhost:8080/"
        },
        "id": "wXIyVVLawyKZ",
        "outputId": "909aa20b-08c7-4664-89c4-13126ee1e58e"
      },
      "execution_count": null,
      "outputs": [
        {
          "output_type": "stream",
          "name": "stdout",
          "text": [
            "Found 865 images belonging to 10 classes.\n",
            "Found 90 images belonging to 10 classes.\n"
          ]
        }
      ]
    },
    {
      "cell_type": "code",
      "source": [
        "validation_dataset.class_indices"
      ],
      "metadata": {
        "colab": {
          "base_uri": "https://localhost:8080/"
        },
        "id": "GoYxq_Jgw19t",
        "outputId": "ce641ddd-af16-4fa1-a00e-c7d0b3ee2bb2"
      },
      "execution_count": null,
      "outputs": [
        {
          "output_type": "execute_result",
          "data": {
            "text/plain": [
              "{'APPLE': 0,\n",
              " 'BANANA': 1,\n",
              " 'CORN': 2,\n",
              " 'LEMON': 3,\n",
              " 'LYCHEE': 4,\n",
              " 'PEACH': 5,\n",
              " 'RASBERRY': 6,\n",
              " 'STRAWBERRY': 7,\n",
              " 'TOMATO': 8,\n",
              " 'WATERMELON': 9}"
            ]
          },
          "metadata": {},
          "execution_count": 7
        }
      ]
    },
    {
      "cell_type": "code",
      "source": [
        "model=Sequential()\n",
        "model.add(Conv2D(32,(3,3),activation='relu',kernel_initializer='he_uniform',padding='same',input_shape=(100,100,3)))\n",
        "model.add(Conv2D(32,(3,3),activation='relu',kernel_initializer='he_uniform',padding='same'))\n",
        "model.add(MaxPooling2D(2,2))"
      ],
      "metadata": {
        "id": "pM5ZPm3tw5xw"
      },
      "execution_count": null,
      "outputs": []
    },
    {
      "cell_type": "code",
      "source": [
        "model=Sequential()\n",
        "model.add(Conv2D(64,(3,3),activation='relu',kernel_initializer='he_uniform',padding='same'))\n",
        "model.add(Conv2D(64,(3,3),activation='relu',kernel_initializer='he_uniform',padding='same'))\n",
        "model.add(MaxPooling2D(2,2))"
      ],
      "metadata": {
        "id": "i9ukj6fVw7Xm"
      },
      "execution_count": null,
      "outputs": []
    },
    {
      "cell_type": "code",
      "source": [
        "model=Sequential()\n",
        "model.add(Conv2D(128,(3,3),activation='relu',kernel_initializer='he_uniform',padding='same'))\n",
        "model.add(Conv2D(128,(3,3),activation='relu',kernel_initializer='he_uniform',padding='same'))\n",
        "model.add(MaxPooling2D(2,2))"
      ],
      "metadata": {
        "id": "_7MmLmk_w_mL"
      },
      "execution_count": null,
      "outputs": []
    },
    {
      "cell_type": "code",
      "source": [
        "model.add(Flatten())\n",
        "model.add(Dense(256,activation='relu'))\n",
        "model.add(Dense(10,activation='softmax'))"
      ],
      "metadata": {
        "id": "z_9VGtMyxFzd"
      },
      "execution_count": null,
      "outputs": []
    },
    {
      "cell_type": "code",
      "source": [
        "opt=Adam(lr=0.002)\n",
        "model.compile (optimizer=opt,loss='categorical_crossentropy', metrics=['accuracy'])\n",
        "history=model.fit(train_data,epochs=5,batch_size=256,validation_data=validation_dataset,verbose=1)\n",
        "score=model.evaluate(validation_dataset,verbose=0)\n",
        "print('Sai số kiểm tra là:',score[0])\n",
        "print('Độ chính xác kiểm tra là:',score[1])"
      ],
      "metadata": {
        "colab": {
          "base_uri": "https://localhost:8080/"
        },
        "id": "IbB3xiCXxK0I",
        "outputId": "23645513-efa5-4a08-c6a0-fcd5f044bb1f"
      },
      "execution_count": null,
      "outputs": [
        {
          "output_type": "stream",
          "name": "stderr",
          "text": [
            "/usr/local/lib/python3.7/dist-packages/keras/optimizer_v2/adam.py:105: UserWarning: The `lr` argument is deprecated, use `learning_rate` instead.\n",
            "  super(Adam, self).__init__(name, **kwargs)\n"
          ]
        },
        {
          "output_type": "stream",
          "name": "stdout",
          "text": [
            "Epoch 1/5\n",
            "87/87 [==============================] - 512s 6s/step - loss: 23.7610 - accuracy: 0.7376 - val_loss: 0.9332 - val_accuracy: 0.7667\n",
            "Epoch 2/5\n",
            "87/87 [==============================] - 502s 6s/step - loss: 0.2155 - accuracy: 0.9734 - val_loss: 0.4087 - val_accuracy: 0.8889\n",
            "Epoch 3/5\n",
            "87/87 [==============================] - 505s 6s/step - loss: 0.0998 - accuracy: 0.9884 - val_loss: 0.4668 - val_accuracy: 0.9111\n",
            "Epoch 4/5\n",
            "87/87 [==============================] - 500s 6s/step - loss: 9.4639e-04 - accuracy: 1.0000 - val_loss: 0.6198 - val_accuracy: 0.9111\n",
            "Epoch 5/5\n",
            "87/87 [==============================] - 505s 6s/step - loss: 6.1335e-05 - accuracy: 1.0000 - val_loss: 0.6242 - val_accuracy: 0.9111\n",
            "Sai số kiểm tra là: 0.6242494583129883\n",
            "Độ chính xác kiểm tra là: 0.9111111164093018\n"
          ]
        }
      ]
    },
    {
      "cell_type": "code",
      "source": [
        "#'APPLE': 0,'BANANA': 1,'CORN': 2,'LEMON': 3,'LYCHEE': 4,'PEACH': 5,'RASBERRY': 6,'STRAWBERRY': 7,'TOMATO': 8,'WATERMELON': 9\n",
        "img=load_img('peach_test.jpg',target_size=(150,150)) \n",
        "img=img_to_array(img)\n",
        "img=img.reshape(1,150,150,3)\n",
        "img=img.astype('float32')\n",
        "img=img/255\n",
        "np.argmax(model.predict(img),axis=1)"
      ],
      "metadata": {
        "colab": {
          "base_uri": "https://localhost:8080/"
        },
        "id": "EJTS9Q4MI44j",
        "outputId": "b2dd086c-9e58-44d2-b982-32601d54622e"
      },
      "execution_count": null,
      "outputs": [
        {
          "output_type": "execute_result",
          "data": {
            "text/plain": [
              "array([5])"
            ]
          },
          "metadata": {},
          "execution_count": 20
        }
      ]
    },
    {
      "cell_type": "code",
      "source": [
        "img=load_img('tomato_test.jpg',target_size=(150,150)) \n",
        "img=img_to_array(img)\n",
        "img=img.reshape(1,150,150,3)\n",
        "img=img.astype('float32')\n",
        "img=img/255\n",
        "np.argmax(model.predict(img),axis=1)"
      ],
      "metadata": {
        "colab": {
          "base_uri": "https://localhost:8080/"
        },
        "id": "zgHBaitCJyTi",
        "outputId": "98a1af84-7a96-40e9-d799-0a523edb281b"
      },
      "execution_count": null,
      "outputs": [
        {
          "output_type": "execute_result",
          "data": {
            "text/plain": [
              "array([6])"
            ]
          },
          "metadata": {},
          "execution_count": 22
        }
      ]
    },
    {
      "cell_type": "code",
      "source": [
        "img=load_img('watermelon_test.jpg',target_size=(150,150)) \n",
        "img=img_to_array(img)\n",
        "img=img.reshape(1,150,150,3)\n",
        "img=img.astype('float32')\n",
        "img=img/255\n",
        "np.argmax(model.predict(img),axis=1)"
      ],
      "metadata": {
        "colab": {
          "base_uri": "https://localhost:8080/"
        },
        "id": "3EoCR6mTWZjW",
        "outputId": "2b1f93d5-e9fd-4dc9-cbba-afc483e0b747"
      },
      "execution_count": null,
      "outputs": [
        {
          "output_type": "execute_result",
          "data": {
            "text/plain": [
              "array([9])"
            ]
          },
          "metadata": {},
          "execution_count": 23
        }
      ]
    }
  ]
}