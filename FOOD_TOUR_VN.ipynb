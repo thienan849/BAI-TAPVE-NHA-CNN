{
  "cells": [
    {
      "cell_type": "code",
      "execution_count": null,
      "metadata": {
        "id": "rqgDIsYkzj4z"
      },
      "outputs": [],
      "source": [
        "import numpy as np #tinh toan\n",
        "import pandas as pd #xu li bang\n",
        "import seaborn as sns #do thi du lieu\n",
        "import matplotlib.pyplot as plt # ve\n",
        "from sklearn.preprocessing import StandardScaler # xu li xu lieu cho dong deu\n",
        "from sklearn.model_selection import train_test_split # chia du lieu\n",
        "from keras.layers import Dense,Activation,Dropout,BatchNormalization,LSTM # nhom chuan\n",
        "from keras.models import Sequential #\n",
        "from tensorflow.keras.utils import to_categorical #### chỉ cho 1 giá trị (1) hiện lên\n",
        "from keras import callbacks #\n",
        "from sklearn.metrics import precision_score, recall_score, confusion_matrix, classification_report, accuracy_score,f1_score # đo lường\n",
        "from tensorflow.keras.optimizers import RMSprop\n",
        "from keras.callbacks import EarlyStopping\n",
        "from sklearn.preprocessing import scale\n",
        "from keras.utils import np_utils\n",
        "from keras.datasets import mnist\n",
        "from keras.models import Sequential\n",
        "from keras.layers import Dense, Dropout\n",
        "from tensorflow.keras.optimizers import RMSprop\n",
        "import numpy as np\n",
        "from tensorflow.keras.optimizers import SGD,Adam\n",
        "from keras.models import Sequential\n",
        "from keras.layers import Dense\n",
        "from keras.layers import Dropout\n",
        "from keras.layers import Flatten\n",
        "from keras.layers.convolutional import Conv2D\n",
        "from keras.layers.convolutional import MaxPooling2D\n",
        "from tensorflow.keras.models import load_model\n",
        "from tensorflow.keras.utils import load_img, img_to_array\n",
        "from keras.preprocessing.image import ImageDataGenerator\n",
        "from skimage import io\n",
        "import os"
      ]
    },
    {
      "cell_type": "code",
      "execution_count": null,
      "metadata": {
        "id": "gb0kKh9h28FA"
      },
      "outputs": [],
      "source": [
        "url='/content/drive/MyDrive/Colab Notebooks/FOOD_TOUR_VN'"
      ]
    },
    {
      "cell_type": "code",
      "execution_count": null,
      "metadata": {
        "colab": {
          "base_uri": "https://localhost:8080/"
        },
        "id": "mXQ4C4VO3wxw",
        "outputId": "3c813c0d-5f95-4a48-a601-326f75f16a2b"
      },
      "outputs": [
        {
          "output_type": "stream",
          "name": "stdout",
          "text": [
            "Found 964 images belonging to 10 classes.\n",
            "Found 104 images belonging to 10 classes.\n"
          ]
        }
      ],
      "source": [
        "generator= ImageDataGenerator(rescale=1./255,validation_split=0.1)\n",
        "train_data=generator.flow_from_directory(url,target_size=(150,150),batch_size=10,class_mode='categorical',subset='training')\n",
        "validation_dataset=generator.flow_from_directory(url,target_size=(150,150),batch_size=10,class_mode='categorical',subset='validation')"
      ]
    },
    {
      "cell_type": "code",
      "execution_count": null,
      "metadata": {
        "colab": {
          "base_uri": "https://localhost:8080/"
        },
        "id": "HB9QnF5j31NM",
        "outputId": "ac9b5e30-353e-4fec-dd0e-219c614306ed"
      },
      "outputs": [
        {
          "output_type": "execute_result",
          "data": {
            "text/plain": [
              "{'BANH_CHUNG': 0,\n",
              " 'BANH_MI': 1,\n",
              " 'BANH_XEO': 2,\n",
              " 'BUN_BO': 3,\n",
              " 'CANH_CHUA': 4,\n",
              " 'CAO_LAU': 5,\n",
              " 'CHAO_LONG': 6,\n",
              " 'COM_TAM': 7,\n",
              " 'NEM_CHUA': 8,\n",
              " 'PHO': 9}"
            ]
          },
          "metadata": {},
          "execution_count": 15
        }
      ],
      "source": [
        "validation_dataset.class_indices"
      ]
    },
    {
      "cell_type": "code",
      "execution_count": null,
      "metadata": {
        "id": "aHxdi9Ji31_R"
      },
      "outputs": [],
      "source": [
        "model=Sequential()\n",
        "model.add(Conv2D(32,(3,3),activation='relu',kernel_initializer='he_uniform',padding='same',input_shape=(100,100,3)))\n",
        "model.add(Conv2D(32,(3,3),activation='relu',kernel_initializer='he_uniform',padding='same'))\n",
        "model.add(MaxPooling2D(2,2))\n"
      ]
    },
    {
      "cell_type": "code",
      "execution_count": null,
      "metadata": {
        "id": "h2Qzic0V4feU"
      },
      "outputs": [],
      "source": [
        "model=Sequential()\n",
        "model.add(Conv2D(64,(3,3),activation='relu',kernel_initializer='he_uniform',padding='same'))\n",
        "model.add(Conv2D(64,(3,3),activation='relu',kernel_initializer='he_uniform',padding='same'))\n",
        "model.add(MaxPooling2D(2,2))\n"
      ]
    },
    {
      "cell_type": "code",
      "execution_count": null,
      "metadata": {
        "id": "WGhwCPsw4iaL"
      },
      "outputs": [],
      "source": [
        "model=Sequential()\n",
        "model.add(Conv2D(128,(3,3),activation='relu',kernel_initializer='he_uniform',padding='same'))\n",
        "model.add(Conv2D(128,(3,3),activation='relu',kernel_initializer='he_uniform',padding='same'))\n",
        "model.add(MaxPooling2D(2,2))\n"
      ]
    },
    {
      "cell_type": "code",
      "execution_count": null,
      "metadata": {
        "id": "rOHhA3Rj4JDe"
      },
      "outputs": [],
      "source": [
        "model.add(Flatten())\n",
        "model.add(Dense(256,activation='relu'))\n",
        "model.add(Dense(10,activation='softmax'))\n"
      ]
    },
    {
      "cell_type": "code",
      "execution_count": null,
      "metadata": {
        "colab": {
          "base_uri": "https://localhost:8080/"
        },
        "id": "6vLfOq1o5R4j",
        "outputId": "3c43e29b-04fb-4f58-fae6-0422cd61e810"
      },
      "outputs": [
        {
          "output_type": "stream",
          "name": "stdout",
          "text": [
            "Epoch 1/5\n",
            "97/97 [==============================] - 607s 6s/step - loss: 2.8765 - accuracy: 0.1981 - val_loss: 2.1255 - val_accuracy: 0.2115\n",
            "Epoch 2/5\n",
            "97/97 [==============================] - 604s 6s/step - loss: 1.7725 - accuracy: 0.3869 - val_loss: 1.9940 - val_accuracy: 0.3846\n",
            "Epoch 3/5\n",
            "97/97 [==============================] - 606s 6s/step - loss: 1.0179 - accuracy: 0.6857 - val_loss: 1.8625 - val_accuracy: 0.3846\n",
            "Epoch 4/5\n",
            "97/97 [==============================] - 609s 6s/step - loss: 0.3295 - accuracy: 0.9035 - val_loss: 2.3926 - val_accuracy: 0.4038\n",
            "Epoch 5/5\n",
            "97/97 [==============================] - 608s 6s/step - loss: 0.0897 - accuracy: 0.9793 - val_loss: 2.8846 - val_accuracy: 0.3365\n",
            "Sai số kiểm tra là: 2.8845608234405518\n",
            "Độ chính xác kiểm tra là: 0.3365384638309479\n"
          ]
        }
      ],
      "source": [
        "opt=SGD(learning_rate=0.002,momentum=0.9)\n",
        "model.compile (optimizer=opt,loss='categorical_crossentropy', metrics=['accuracy'])\n",
        "history=model.fit(train_data,epochs=5,batch_size=128,validation_data=validation_dataset,verbose=1)\n",
        "score=model.evaluate(validation_dataset,verbose=0)\n",
        "print('Sai số kiểm tra là:',score[0])\n",
        "print('Độ chính xác kiểm tra là:',score[1])"
      ]
    },
    {
      "cell_type": "code",
      "execution_count": null,
      "metadata": {
        "id": "KQazhf66-b7F"
      },
      "outputs": [],
      "source": [
        "model.save('/content/drive/MyDrive/Colab Notebooks/MOHINH_H5/FOOD_TOUR_VN.h5')"
      ]
    },
    {
      "cell_type": "code",
      "execution_count": null,
      "metadata": {
        "colab": {
          "base_uri": "https://localhost:8080/"
        },
        "id": "g7OSWkYl-qyr",
        "outputId": "b07bc6fe-12d4-4d00-8c22-3dfcf992fd0a"
      },
      "outputs": [
        {
          "output_type": "execute_result",
          "data": {
            "text/plain": [
              "array([0])"
            ]
          },
          "metadata": {},
          "execution_count": 36
        }
      ],
      "source": [
        "img=load_img('banhchung_test.jpg',target_size=(150,150)) #'BANH_CHUNG': 0,'BANH_MI': 1,'BANH_XEO': 2,'BUN_BO': 3,'CANH_CHUA': 4,\n",
        "#'CAO_LAU': 5,'CHAO_LONG': 6,'COM_TAM': 7,'NEM_CHUA': 8,'PHO': 9\n",
        "img=img_to_array(img)\n",
        "img=img.reshape(1,150,150,3)\n",
        "img=img.astype('float32')\n",
        "img=img/255\n",
        "np.argmax(model.predict(img),axis=1)"
      ]
    },
    {
      "cell_type": "code",
      "source": [
        "img=load_img('banhmi_test.jpg',target_size=(150,150)) #'BANH_CHUNG': 0,'BANH_MI': 1,'BANH_XEO': 2,'BUN_BO': 3,'CANH_CHUA': 4,\n",
        "#'CAO_LAU': 5,'CHAO_LONG': 6,'COM_TAM': 7,'NEM_CHUA': 8,'PHO': 9\n",
        "img=img_to_array(img)\n",
        "img=img.reshape(1,150,150,3)\n",
        "img=img.astype('float32')\n",
        "img=img/255\n",
        "np.argmax(model.predict(img),axis=1)"
      ],
      "metadata": {
        "colab": {
          "base_uri": "https://localhost:8080/"
        },
        "id": "VIYFLMzznQM5",
        "outputId": "94456bb1-78b8-4a87-fd98-7b899f916747"
      },
      "execution_count": null,
      "outputs": [
        {
          "output_type": "execute_result",
          "data": {
            "text/plain": [
              "array([7])"
            ]
          },
          "metadata": {},
          "execution_count": 37
        }
      ]
    },
    {
      "cell_type": "code",
      "source": [
        "img=load_img('comtam_test.jpg',target_size=(150,150)) #'BANH_CHUNG': 0,'BANH_MI': 1,'BANH_XEO': 2,'BUN_BO': 3,'CANH_CHUA': 4,\n",
        "#'CAO_LAU': 5,'CHAO_LONG': 6,'COM_TAM': 7,'NEM_CHUA': 8,'PHO': 9\n",
        "img=img_to_array(img)\n",
        "img=img.reshape(1,150,150,3)\n",
        "img=img.astype('float32')\n",
        "img=img/255\n",
        "np.argmax(model.predict(img),axis=1)"
      ],
      "metadata": {
        "colab": {
          "base_uri": "https://localhost:8080/"
        },
        "id": "5SwO09eZptLe",
        "outputId": "4fbea4f1-26dc-4f68-95d1-6e3c74d1a412"
      },
      "execution_count": null,
      "outputs": [
        {
          "output_type": "execute_result",
          "data": {
            "text/plain": [
              "array([7])"
            ]
          },
          "metadata": {},
          "execution_count": 41
        }
      ]
    },
    {
      "cell_type": "code",
      "source": [
        ""
      ],
      "metadata": {
        "id": "nO_TfDJsoPA5"
      },
      "execution_count": null,
      "outputs": []
    }
  ],
  "metadata": {
    "colab": {
      "collapsed_sections": [],
      "name": "FOOD_TOUR_VN.ipynb",
      "provenance": []
    },
    "kernelspec": {
      "display_name": "Python 3",
      "name": "python3"
    },
    "language_info": {
      "name": "python"
    }
  },
  "nbformat": 4,
  "nbformat_minor": 0
}